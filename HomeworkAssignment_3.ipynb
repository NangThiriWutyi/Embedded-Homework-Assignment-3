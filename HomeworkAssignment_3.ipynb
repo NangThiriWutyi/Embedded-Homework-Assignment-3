{
  "nbformat": 4,
  "nbformat_minor": 0,
  "metadata": {
    "colab": {
      "provenance": []
    },
    "kernelspec": {
      "name": "python3",
      "display_name": "Python 3"
    },
    "language_info": {
      "name": "python"
    }
  },
  "cells": [
    {
      "cell_type": "code",
      "source": [
        "def mk_wd(balance):\n",
        "    \"\"\"\n",
        "    Return the balance after withdrawal since inception\n",
        "    \"\"\"\n",
        "    def wd(amount):\n",
        "        nonlocal balance\n",
        "        if amount > balance:\n",
        "            return \"Insufficient funds\"\n",
        "        balance -= amount\n",
        "        return balance\n",
        "\n",
        "    return wd\n",
        "\n",
        "# Example usage\n",
        "rem = mk_wd(100)  # deposit $100\n",
        "print(rem(10))    # Output: 90\n",
        "print(rem(20))    # Output: 70\n",
        "print(rem(100))   # Output: 'Insufficient funds'\n"
      ],
      "metadata": {
        "colab": {
          "base_uri": "https://localhost:8080/"
        },
        "id": "4SitA9yfrJy3",
        "outputId": "55a1d1b5-0d19-48dc-ef0a-d22e5911d837"
      },
      "execution_count": 7,
      "outputs": [
        {
          "output_type": "stream",
          "name": "stdout",
          "text": [
            "90\n",
            "70\n",
            "Insufficient funds\n"
          ]
        }
      ]
    },
    {
      "cell_type": "code",
      "source": [
        "def rm_all(elem, lst):\n",
        "    \"\"\"\n",
        "    Remove all instances of the specified element from the list.\n",
        "    \"\"\"\n",
        "    lst[:] = [x for x in lst if x != elem]\n",
        "\n",
        "# Example usage\n",
        "x = [3, 1, 2, 1, 5, 1, 1, 7]\n",
        "rm_all(1, x)\n",
        "print(x)\n"
      ],
      "metadata": {
        "colab": {
          "base_uri": "https://localhost:8080/"
        },
        "id": "pM64utxRrLu4",
        "outputId": "e31f1c47-af62-46f3-a662-faa6de27be86"
      },
      "execution_count": 8,
      "outputs": [
        {
          "output_type": "stream",
          "name": "stdout",
          "text": [
            "[3, 2, 5, 7]\n"
          ]
        }
      ]
    },
    {
      "cell_type": "code",
      "source": [
        "def add_many(x, elem, lst):\n",
        "    \"\"\"\n",
        "    Adds elem to the end of lst the number of times x occurs in lst.\n",
        "    \"\"\"\n",
        "    lst.extend([elem] * lst.count(x))\n",
        "\n",
        "# Example usage\n",
        "lst = [1, 2, 4, 2, 1]\n",
        "add_many(2, 5, lst)\n",
        "print(lst)\n"
      ],
      "metadata": {
        "colab": {
          "base_uri": "https://localhost:8080/"
        },
        "id": "8ToIMbSIsqdY",
        "outputId": "62f2cefc-f927-4dcd-c32e-170379ee8404"
      },
      "execution_count": 9,
      "outputs": [
        {
          "output_type": "stream",
          "name": "stdout",
          "text": [
            "[1, 2, 4, 2, 1, 5, 5]\n"
          ]
        }
      ]
    },
    {
      "cell_type": "code",
      "source": [
        "def f(suits, numbers):\n",
        "    \"\"\"\n",
        "    Creates a new list with the given suits and numbers.\n",
        "    Each element in the returned list should be of the form [suit, number].\n",
        "    \"\"\"\n",
        "    result = []\n",
        "\n",
        "    for suit in suits:\n",
        "        for number in numbers:\n",
        "            result.append([suit, number])\n",
        "\n",
        "    return result\n",
        "\n",
        "# Example usage\n",
        "print(f(['S', 'C'], [1, 2, 3]))\n",
        "print(f(['S', 'C'], [3, 2, 1]))\n",
        "print(f([], [3, 2, 1]))\n",
        "print(f(['S', 'C'], []))\n"
      ],
      "metadata": {
        "colab": {
          "base_uri": "https://localhost:8080/"
        },
        "id": "9AWRs5wktb23",
        "outputId": "680b3cb7-d599-4ce5-bfea-f720019a7811"
      },
      "execution_count": 11,
      "outputs": [
        {
          "output_type": "stream",
          "name": "stdout",
          "text": [
            "[['S', 1], ['S', 2], ['S', 3], ['C', 1], ['C', 2], ['C', 3]]\n",
            "[['S', 3], ['S', 2], ['S', 1], ['C', 3], ['C', 2], ['C', 1]]\n",
            "[]\n",
            "[]\n"
          ]
        }
      ]
    },
    {
      "cell_type": "code",
      "source": [
        "def mrg(ls1, ls2):\n",
        "    \"\"\"\n",
        "    Merges two sorted lists recursively.\n",
        "    \"\"\"\n",
        "    # Base case: if one of the lists is empty, return the other list\n",
        "    if not ls1:\n",
        "        return ls2\n",
        "    if not ls2:\n",
        "        return ls1\n",
        "\n",
        "    # Recursive case: compare the first elements of both lists\n",
        "    if ls1[0] < ls2[0]:\n",
        "        return [ls1[0]] + mrg(ls1[1:], ls2)\n",
        "    else:\n",
        "        return [ls2[0]] + mrg(ls1, ls2[1:])\n",
        "\n",
        "# Example usages\n",
        "print(mrg([1, 3, 5], [2, 4, 6]))  # Output: [1, 2, 3, 4, 5, 6]\n",
        "print(mrg([], [2, 4, 6]))          # Output: [2, 4, 6]\n",
        "print(mrg([1, 2, 3], []))          # Output: [1, 2, 3]\n",
        "print(mrg([5, 7], [2, 4, 6]))      # Output: [2, 4, 5, 6, 7]\n"
      ],
      "metadata": {
        "colab": {
          "base_uri": "https://localhost:8080/"
        },
        "id": "K7LY16o2u3iU",
        "outputId": "429ece42-d48a-49a6-adde-1635cc8118d2"
      },
      "execution_count": 13,
      "outputs": [
        {
          "output_type": "stream",
          "name": "stdout",
          "text": [
            "[1, 2, 3, 4, 5, 6]\n",
            "[2, 4, 6]\n",
            "[1, 2, 3]\n",
            "[2, 4, 5, 6, 7]\n"
          ]
        }
      ]
    },
    {
      "cell_type": "code",
      "source": [
        "def fltn(ls):\n",
        "    \"\"\"\n",
        "    Return a new version of list as a flattened list.\n",
        "    \"\"\"\n",
        "    result = []\n",
        "\n",
        "    for item in ls:\n",
        "        if isinstance(item, list):\n",
        "            result.extend(fltn(item))\n",
        "        else:\n",
        "            result.append(item)\n",
        "\n",
        "    return result\n",
        "\n",
        "# Example usages\n",
        "print(fltn([1, 2, 3]))                  # Output: [1, 2, 3]\n",
        "print(fltn([1, [2, 3], 4]))              # Output: [1, 2, 3, 4]\n",
        "print(fltn([[1, [1, 1]], 1, [1, 1]]))    # Output: [1, 1, 1, 1, 1, 1]\n"
      ],
      "metadata": {
        "colab": {
          "base_uri": "https://localhost:8080/"
        },
        "id": "TPVDOWvewWdf",
        "outputId": "c51717e4-3550-48d4-b1bd-2e1c066e7c5b"
      },
      "execution_count": 14,
      "outputs": [
        {
          "output_type": "stream",
          "name": "stdout",
          "text": [
            "[1, 2, 3]\n",
            "[1, 2, 3, 4]\n",
            "[1, 1, 1, 1, 1, 1]\n"
          ]
        }
      ]
    },
    {
      "cell_type": "code",
      "source": [
        "def chk_elm(lst, n):\n",
        "    \"\"\"\n",
        "    Check if the element exists in the list or not.\n",
        "    \"\"\"\n",
        "    for item in lst:\n",
        "        if isinstance(item, list):\n",
        "            # Recursively check in the nested list\n",
        "            if chk_elm(item, n):\n",
        "                return True\n",
        "        elif item == n:\n",
        "            # Check if the current element matches the target element\n",
        "            return True\n",
        "\n",
        "    return False\n",
        "\n",
        "# Example usage\n",
        "a = [[1, [2]], 3, [[4], [5, [6]]]]\n",
        "print(chk_elm(a, 6))  # Output: True\n"
      ],
      "metadata": {
        "colab": {
          "base_uri": "https://localhost:8080/"
        },
        "id": "Pr8QtG2uwny2",
        "outputId": "60297b68-142d-4535-ef57-3fdb08dee887"
      },
      "execution_count": 15,
      "outputs": [
        {
          "output_type": "stream",
          "name": "stdout",
          "text": [
            "True\n"
          ]
        }
      ]
    },
    {
      "cell_type": "code",
      "source": [
        "def sym(l):\n",
        "    \"\"\"\n",
        "    Returns whether a list is symmetric or not.\n",
        "    \"\"\"\n",
        "    if len(l) <= 1:\n",
        "        return True  # An empty list or a single-element list is symmetric\n",
        "\n",
        "    if l[0] == l[-1]:\n",
        "        # Recursively check the sublist excluding the first and last elements\n",
        "        return sym(l[1:-1])\n",
        "    else:\n",
        "        return False\n",
        "\n",
        "# Example usages\n",
        "print(sym([]))              # Output: True\n",
        "print(sym([1]))             # Output: True\n",
        "print(sym([1, 4, 5, 1]))    # Output: False\n",
        "print(sym([1, 4, 4, 1]))    # Output: True\n",
        "print(sym(['l', 'o', 'l'])) # Output: True\n"
      ],
      "metadata": {
        "colab": {
          "base_uri": "https://localhost:8080/"
        },
        "id": "m0MnidK_xlM3",
        "outputId": "3ad8de6c-40e3-4648-a9e4-25729b8540fe"
      },
      "execution_count": 16,
      "outputs": [
        {
          "output_type": "stream",
          "name": "stdout",
          "text": [
            "True\n",
            "True\n",
            "False\n",
            "True\n",
            "True\n"
          ]
        }
      ]
    },
    {
      "cell_type": "code",
      "source": [
        "from functools import reduce\n",
        "from operator import add, sub, mul\n",
        "\n",
        "def fld(lst, g, m):\n",
        "    \"\"\"\n",
        "    Return the result of applying the function g to the initial value m\n",
        "    and the elements in lst, using a left fold.\n",
        "    \"\"\"\n",
        "    if not lst:\n",
        "        return m  # Return m if lst is empty\n",
        "    else:\n",
        "        # Apply the function g to the initial value and the first element in lst\n",
        "        result = g(m, lst[0])\n",
        "        # Recursively apply g to the result and the rest of the elements in lst\n",
        "        return fld(lst[1:], g, result)\n",
        "\n",
        "# Example usages\n",
        "s = [3, 2, 1]\n",
        "print(fld(s, sub, 0))    # Output: -6\n",
        "print(fld(s, add, 0))    # Output: 6\n",
        "print(fld(s, mul, 1))    # Output: 6\n",
        "print(fld([], sub, 100)) # Output: 100\n",
        "\n"
      ],
      "metadata": {
        "colab": {
          "base_uri": "https://localhost:8080/"
        },
        "id": "EqJm0Y7-xxjG",
        "outputId": "dbc7c9fb-373c-4c36-cf0f-7f4ede0fc89d"
      },
      "execution_count": 18,
      "outputs": [
        {
          "output_type": "stream",
          "name": "stdout",
          "text": [
            "-6\n",
            "6\n",
            "6\n",
            "100\n"
          ]
        }
      ]
    },
    {
      "cell_type": "code",
      "source": [
        "def crte_2d_arr(rows, columns):\n",
        "    \"\"\"\n",
        "    Create a 2D array with the specified number of rows and columns.\n",
        "    \"\"\"\n",
        "    # Use list comprehension to create the 2D array with '-' as the default value\n",
        "    return [['-' for _ in range(columns)] for _ in range(rows)]\n",
        "\n",
        "# Example usage\n",
        "result = crte_2d_arr(3, 5)\n",
        "print(result)\n"
      ],
      "metadata": {
        "colab": {
          "base_uri": "https://localhost:8080/"
        },
        "id": "SiseiGCQ5d2l",
        "outputId": "0ea0540f-3531-406e-cac8-f23785716851"
      },
      "execution_count": 19,
      "outputs": [
        {
          "output_type": "stream",
          "name": "stdout",
          "text": [
            "[['-', '-', '-', '-', '-'], ['-', '-', '-', '-', '-'], ['-', '-', '-', '-', '-']]\n"
          ]
        }
      ]
    }
  ]
}